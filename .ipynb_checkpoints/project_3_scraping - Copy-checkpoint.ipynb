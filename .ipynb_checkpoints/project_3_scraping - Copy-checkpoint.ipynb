{
 "cells": [
  {
   "cell_type": "code",
   "execution_count": 10,
   "id": "397d1cf4",
   "metadata": {},
   "outputs": [],
   "source": [
    "import requests\n",
    "import pandas as pd"
   ]
  },
  {
   "cell_type": "code",
   "execution_count": 11,
   "id": "fd101a52",
   "metadata": {},
   "outputs": [],
   "source": [
    "# url = 'https://api.pushshift.io/reddit/search/submission/'\n",
    "\n",
    "# params = {\n",
    "#     'subreddit' : 'worldnews',\n",
    "#     'size' : 500,\n",
    "#     'is_video' : False\n",
    "# }"
   ]
  },
  {
   "cell_type": "code",
   "execution_count": 12,
   "id": "04789b4a",
   "metadata": {},
   "outputs": [],
   "source": [
    "# res = requests.get(url, params)\n",
    "# post = res.json()['data']"
   ]
  },
  {
   "cell_type": "code",
   "execution_count": 13,
   "id": "e9140c67",
   "metadata": {},
   "outputs": [
    {
     "data": {
      "text/html": [
       "<div>\n",
       "<style scoped>\n",
       "    .dataframe tbody tr th:only-of-type {\n",
       "        vertical-align: middle;\n",
       "    }\n",
       "\n",
       "    .dataframe tbody tr th {\n",
       "        vertical-align: top;\n",
       "    }\n",
       "\n",
       "    .dataframe thead th {\n",
       "        text-align: right;\n",
       "    }\n",
       "</style>\n",
       "<table border=\"1\" class=\"dataframe\">\n",
       "  <thead>\n",
       "    <tr style=\"text-align: right;\">\n",
       "      <th></th>\n",
       "      <th>title</th>\n",
       "      <th>subreddit</th>\n",
       "    </tr>\n",
       "  </thead>\n",
       "  <tbody>\n",
       "    <tr>\n",
       "      <th>0</th>\n",
       "      <td>COVID-19: New 'Mu variant' from Colombia could...</td>\n",
       "      <td>worldnews</td>\n",
       "    </tr>\n",
       "    <tr>\n",
       "      <th>1</th>\n",
       "      <td>Moderna to recall COVID-19 doses in Japan over...</td>\n",
       "      <td>worldnews</td>\n",
       "    </tr>\n",
       "    <tr>\n",
       "      <th>2</th>\n",
       "      <td>China warns US bad ties could imperil climate ...</td>\n",
       "      <td>worldnews</td>\n",
       "    </tr>\n",
       "    <tr>\n",
       "      <th>3</th>\n",
       "      <td>Lithuanian president “will do everything that ...</td>\n",
       "      <td>worldnews</td>\n",
       "    </tr>\n",
       "    <tr>\n",
       "      <th>4</th>\n",
       "      <td>COVID-19: Protesters target several B.C. hospi...</td>\n",
       "      <td>worldnews</td>\n",
       "    </tr>\n",
       "  </tbody>\n",
       "</table>\n",
       "</div>"
      ],
      "text/plain": [
       "                                               title  subreddit\n",
       "0  COVID-19: New 'Mu variant' from Colombia could...  worldnews\n",
       "1  Moderna to recall COVID-19 doses in Japan over...  worldnews\n",
       "2  China warns US bad ties could imperil climate ...  worldnews\n",
       "3  Lithuanian president “will do everything that ...  worldnews\n",
       "4  COVID-19: Protesters target several B.C. hospi...  worldnews"
      ]
     },
     "execution_count": 13,
     "metadata": {},
     "output_type": "execute_result"
    }
   ],
   "source": [
    "# reddit_df_raw = pd.DataFrame(post)\n",
    "# reddit_df_raw = reddit_df_raw[['title', 'subreddit']]\n",
    "# reddit_df_raw.head()"
   ]
  },
  {
   "cell_type": "code",
   "execution_count": 14,
   "id": "a037d25f",
   "metadata": {},
   "outputs": [],
   "source": [
    "url = 'https://api.pushshift.io/reddit/search/submission/'\n",
    "\n",
    "params = {\n",
    "    'subreddit' : 'CasualConversation',\n",
    "    'size' : 500,\n",
    "    'is_video' : False\n",
    "}"
   ]
  },
  {
   "cell_type": "code",
   "execution_count": 15,
   "id": "3f5dd639",
   "metadata": {},
   "outputs": [],
   "source": [
    "res = requests.get(url, params)\n",
    "post = res.json()['data']"
   ]
  },
  {
   "cell_type": "code",
   "execution_count": 16,
   "id": "0940d456",
   "metadata": {
    "scrolled": true
   },
   "outputs": [
    {
     "data": {
      "text/html": [
       "<div>\n",
       "<style scoped>\n",
       "    .dataframe tbody tr th:only-of-type {\n",
       "        vertical-align: middle;\n",
       "    }\n",
       "\n",
       "    .dataframe tbody tr th {\n",
       "        vertical-align: top;\n",
       "    }\n",
       "\n",
       "    .dataframe thead th {\n",
       "        text-align: right;\n",
       "    }\n",
       "</style>\n",
       "<table border=\"1\" class=\"dataframe\">\n",
       "  <thead>\n",
       "    <tr style=\"text-align: right;\">\n",
       "      <th></th>\n",
       "      <th>title</th>\n",
       "      <th>subreddit</th>\n",
       "    </tr>\n",
       "  </thead>\n",
       "  <tbody>\n",
       "    <tr>\n",
       "      <th>0</th>\n",
       "      <td>I got my first jab</td>\n",
       "      <td>CasualConversation</td>\n",
       "    </tr>\n",
       "    <tr>\n",
       "      <th>1</th>\n",
       "      <td>The FDA is useless.</td>\n",
       "      <td>CasualConversation</td>\n",
       "    </tr>\n",
       "    <tr>\n",
       "      <th>2</th>\n",
       "      <td>Why do people drink alcoholic drinks?</td>\n",
       "      <td>CasualConversation</td>\n",
       "    </tr>\n",
       "    <tr>\n",
       "      <th>3</th>\n",
       "      <td>MBA Assignment Help</td>\n",
       "      <td>CasualConversation</td>\n",
       "    </tr>\n",
       "    <tr>\n",
       "      <th>4</th>\n",
       "      <td>its my cake day first time witnessing it !!!</td>\n",
       "      <td>CasualConversation</td>\n",
       "    </tr>\n",
       "  </tbody>\n",
       "</table>\n",
       "</div>"
      ],
      "text/plain": [
       "                                          title           subreddit\n",
       "0                            I got my first jab  CasualConversation\n",
       "1                           The FDA is useless.  CasualConversation\n",
       "2         Why do people drink alcoholic drinks?  CasualConversation\n",
       "3                           MBA Assignment Help  CasualConversation\n",
       "4  its my cake day first time witnessing it !!!  CasualConversation"
      ]
     },
     "execution_count": 16,
     "metadata": {},
     "output_type": "execute_result"
    }
   ],
   "source": [
    "reddit_df_raw2 = pd.DataFrame(post)\n",
    "reddit_df_raw2 = reddit_df_raw2[['title', 'subreddit']]\n",
    "reddit_df_raw2.head()"
   ]
  },
  {
   "cell_type": "code",
   "execution_count": 17,
   "id": "7a11623f",
   "metadata": {},
   "outputs": [],
   "source": [
    "reddit_df = pd.read_csv('reddit.csv')"
   ]
  },
  {
   "cell_type": "code",
   "execution_count": 18,
   "id": "f81380bb",
   "metadata": {},
   "outputs": [],
   "source": [
    "reddit_df = pd.concat([reddit_df, reddit_df_raw, reddit_df_raw2])\n",
    "reddit_df.drop_duplicates('title', inplace=True,  ignore_index=True)\n",
    "\n",
    "#not to overwrite existing file\n",
    "#reddit_df.to_csv('reddit.csv',index=False)"
   ]
  }
 ],
 "metadata": {
  "kernelspec": {
   "display_name": "Python 3",
   "language": "python",
   "name": "python3"
  },
  "language_info": {
   "codemirror_mode": {
    "name": "ipython",
    "version": 3
   },
   "file_extension": ".py",
   "mimetype": "text/x-python",
   "name": "python",
   "nbconvert_exporter": "python",
   "pygments_lexer": "ipython3",
   "version": "3.8.8"
  }
 },
 "nbformat": 4,
 "nbformat_minor": 5
}
